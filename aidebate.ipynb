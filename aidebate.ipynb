{
 "cells": [
  {
   "cell_type": "code",
   "execution_count": 8,
   "metadata": {},
   "outputs": [
    {
     "name": "stdout",
     "output_type": "stream",
     "text": [
      "/Users/lawrence/nighthawk/smartlabel-processor\n",
      "Tim Walz: 3.6956521739130435\n",
      "JD Vance: 2.9130434782608696\n"
     ]
    }
   ],
   "source": [
    "import json\n",
    "import os\n",
    "\n",
    "print(os.getcwd())\n",
    "with open('debate.json', 'r') as f:\n",
    "    data = json.load(f)\n",
    "\n",
    "cand_dict = {}\n",
    "for inst in data['questions_and_answers']:\n",
    "    cand = inst['candidate']\n",
    "    if cand not in cand_dict:\n",
    "        cand_dict[cand] = []\n",
    "    cand_dict[cand].append(inst['evaluation'])\n",
    "\n",
    "for cand, lists in cand_dict.items():\n",
    "    total = len(lists)\n",
    "    score = sum(lists)\n",
    "    print(f'{cand}: {score/total}')\n"
   ]
  }
 ],
 "metadata": {
  "kernelspec": {
   "display_name": ".venv",
   "language": "python",
   "name": "python3"
  },
  "language_info": {
   "codemirror_mode": {
    "name": "ipython",
    "version": 3
   },
   "file_extension": ".py",
   "mimetype": "text/x-python",
   "name": "python",
   "nbconvert_exporter": "python",
   "pygments_lexer": "ipython3",
   "version": "3.12.3"
  }
 },
 "nbformat": 4,
 "nbformat_minor": 2
}
